{
 "cells": [
  {
   "cell_type": "markdown",
   "id": "1972c803",
   "metadata": {},
   "source": [
    "# Heart Disease Research Part I\n",
    "In this project, we’ll investigate some data from a sample patients who were evaluated for heart disease at the Cleveland Clinic Foundation. The data was downloaded from the UCI Machine Learning Repository and then cleaned for analysis. "
   ]
  },
  {
   "cell_type": "code",
   "execution_count": 16,
   "id": "d140d36b",
   "metadata": {},
   "outputs": [],
   "source": [
    "import pandas as pd\n",
    "from scipy.stats import ttest_1samp\n",
    "from scipy.stats import binom_test"
   ]
  },
  {
   "cell_type": "code",
   "execution_count": 3,
   "id": "b2dd422f",
   "metadata": {},
   "outputs": [
    {
     "data": {
      "text/html": [
       "<div>\n",
       "<style scoped>\n",
       "    .dataframe tbody tr th:only-of-type {\n",
       "        vertical-align: middle;\n",
       "    }\n",
       "\n",
       "    .dataframe tbody tr th {\n",
       "        vertical-align: top;\n",
       "    }\n",
       "\n",
       "    .dataframe thead th {\n",
       "        text-align: right;\n",
       "    }\n",
       "</style>\n",
       "<table border=\"1\" class=\"dataframe\">\n",
       "  <thead>\n",
       "    <tr style=\"text-align: right;\">\n",
       "      <th></th>\n",
       "      <th>age</th>\n",
       "      <th>sex</th>\n",
       "      <th>trestbps</th>\n",
       "      <th>chol</th>\n",
       "      <th>cp</th>\n",
       "      <th>exang</th>\n",
       "      <th>fbs</th>\n",
       "      <th>thalach</th>\n",
       "      <th>heart_disease</th>\n",
       "    </tr>\n",
       "  </thead>\n",
       "  <tbody>\n",
       "    <tr>\n",
       "      <th>0</th>\n",
       "      <td>63.0</td>\n",
       "      <td>male</td>\n",
       "      <td>145.0</td>\n",
       "      <td>233.0</td>\n",
       "      <td>typical angina</td>\n",
       "      <td>0.0</td>\n",
       "      <td>1.0</td>\n",
       "      <td>150.0</td>\n",
       "      <td>absence</td>\n",
       "    </tr>\n",
       "    <tr>\n",
       "      <th>1</th>\n",
       "      <td>67.0</td>\n",
       "      <td>male</td>\n",
       "      <td>160.0</td>\n",
       "      <td>286.0</td>\n",
       "      <td>asymptomatic</td>\n",
       "      <td>1.0</td>\n",
       "      <td>0.0</td>\n",
       "      <td>108.0</td>\n",
       "      <td>presence</td>\n",
       "    </tr>\n",
       "    <tr>\n",
       "      <th>2</th>\n",
       "      <td>67.0</td>\n",
       "      <td>male</td>\n",
       "      <td>120.0</td>\n",
       "      <td>229.0</td>\n",
       "      <td>asymptomatic</td>\n",
       "      <td>1.0</td>\n",
       "      <td>0.0</td>\n",
       "      <td>129.0</td>\n",
       "      <td>presence</td>\n",
       "    </tr>\n",
       "    <tr>\n",
       "      <th>3</th>\n",
       "      <td>37.0</td>\n",
       "      <td>male</td>\n",
       "      <td>130.0</td>\n",
       "      <td>250.0</td>\n",
       "      <td>non-anginal pain</td>\n",
       "      <td>0.0</td>\n",
       "      <td>0.0</td>\n",
       "      <td>187.0</td>\n",
       "      <td>absence</td>\n",
       "    </tr>\n",
       "    <tr>\n",
       "      <th>4</th>\n",
       "      <td>41.0</td>\n",
       "      <td>female</td>\n",
       "      <td>130.0</td>\n",
       "      <td>204.0</td>\n",
       "      <td>atypical angina</td>\n",
       "      <td>0.0</td>\n",
       "      <td>0.0</td>\n",
       "      <td>172.0</td>\n",
       "      <td>absence</td>\n",
       "    </tr>\n",
       "  </tbody>\n",
       "</table>\n",
       "</div>"
      ],
      "text/plain": [
       "    age     sex  trestbps   chol                cp  exang  fbs  thalach  \\\n",
       "0  63.0    male     145.0  233.0    typical angina    0.0  1.0    150.0   \n",
       "1  67.0    male     160.0  286.0      asymptomatic    1.0  0.0    108.0   \n",
       "2  67.0    male     120.0  229.0      asymptomatic    1.0  0.0    129.0   \n",
       "3  37.0    male     130.0  250.0  non-anginal pain    0.0  0.0    187.0   \n",
       "4  41.0  female     130.0  204.0   atypical angina    0.0  0.0    172.0   \n",
       "\n",
       "  heart_disease  \n",
       "0       absence  \n",
       "1      presence  \n",
       "2      presence  \n",
       "3       absence  \n",
       "4       absence  "
      ]
     },
     "execution_count": 3,
     "metadata": {},
     "output_type": "execute_result"
    }
   ],
   "source": [
    "df = pd.read_csv('heart_disease.csv')\n",
    "df.head()"
   ]
  },
  {
   "cell_type": "code",
   "execution_count": 6,
   "id": "bd174d89",
   "metadata": {},
   "outputs": [
    {
     "name": "stdout",
     "output_type": "stream",
     "text": [
      "251.4748201438849\n"
     ]
    }
   ],
   "source": [
    "yes_hd = df[df.heart_disease == 'presence']\n",
    "no_hd = df[df.heart_disease == 'absence']\n",
    "# we’ll investigate cholesterol levels for patients with heart disease\n",
    "chol_hd = yes_hd['chol']\n",
    "print(chol_hd.mean())"
   ]
  },
  {
   "cell_type": "markdown",
   "id": "deacb172",
   "metadata": {},
   "source": [
    "In general, total cholesterol over 240 mg/dl is considered “high” (and therefore unhealthy).\n",
    "\n",
    "\n",
    "Do people with heart disease have high cholesterol levels (greater than or equal to 240 mg/dl) on average?\n",
    "\n",
    "Null hypothesis: People with heart disease have an average cholesterol level equal to 240 mg/dl\n",
    "\n",
    "Alternative hypothesis: People with heart disease have an average cholesterol level that is greater than 240 mg/dl"
   ]
  },
  {
   "cell_type": "code",
   "execution_count": 9,
   "id": "417333fc",
   "metadata": {},
   "outputs": [
    {
     "name": "stdout",
     "output_type": "stream",
     "text": [
      "0.0035411033905155707\n"
     ]
    }
   ],
   "source": [
    "# compare to cut-off for high cholesterol\n",
    "tstat,pval = ttest_1samp(chol_hd,240)\n",
    "print(pval/2)"
   ]
  },
  {
   "cell_type": "markdown",
   "id": "27089ef2",
   "metadata": {},
   "source": [
    "# Finding 1\n",
    "Using a significance threshold of 0.05. we can conclude that heart disease patients have an average cholesterol level significantly greater than 240 mg/dl ."
   ]
  },
  {
   "cell_type": "code",
   "execution_count": 10,
   "id": "fd31ed4e",
   "metadata": {},
   "outputs": [
    {
     "name": "stdout",
     "output_type": "stream",
     "text": [
      "242.640243902439\n"
     ]
    }
   ],
   "source": [
    "# we’ll investigate cholesterol levels for patients without heart disease\n",
    "chol_no_hd = no_hd['chol']\n",
    "print(chol_no_hd.mean())"
   ]
  },
  {
   "cell_type": "code",
   "execution_count": 11,
   "id": "04d3af49",
   "metadata": {},
   "outputs": [
    {
     "name": "stdout",
     "output_type": "stream",
     "text": [
      "0.26397120232220506\n"
     ]
    }
   ],
   "source": [
    "# compare to cut-off for high cholesterol\n",
    "tstat,pval = ttest_1samp(chol_no_hd,240)\n",
    "print(pval/2)"
   ]
  },
  {
   "cell_type": "markdown",
   "id": "3ac6355d",
   "metadata": {},
   "source": [
    "# Finding 2\n",
    "\n",
    "Using a significance threshold of 0.05. we can conclude that patients without heart disease do not have average cholesterol levels significantly above 240 mg/dl.\n",
    "\n",
    "\n",
    "# Fasting Blood Sugar Analysis"
   ]
  },
  {
   "cell_type": "code",
   "execution_count": 12,
   "id": "2bccb81a",
   "metadata": {},
   "outputs": [
    {
     "name": "stdout",
     "output_type": "stream",
     "text": [
      "303\n"
     ]
    }
   ],
   "source": [
    "# calculate number of patients total\n",
    "print(len(df))"
   ]
  },
  {
   "cell_type": "markdown",
   "id": "d3747f3c",
   "metadata": {},
   "source": [
    "the fbs column of this dataset indicates whether or not a patient’s fasting blood sugar was greater than 120 mg/dl (1 means that their fasting blood sugar was greater than 120 mg/dl; 0 means it was less than or equal to 120 mg/dl)."
   ]
  },
  {
   "cell_type": "code",
   "execution_count": 14,
   "id": "b48d3b58",
   "metadata": {},
   "outputs": [
    {
     "data": {
      "text/plain": [
       "45.0"
      ]
     },
     "execution_count": 14,
     "metadata": {},
     "output_type": "execute_result"
    }
   ],
   "source": [
    "num_highfbs_patients = sum(df.fbs)\n",
    "num_highfbs_patients"
   ]
  },
  {
   "cell_type": "markdown",
   "id": "7d49f39b",
   "metadata": {},
   "source": [
    "By some estimates, about 8% of the U.S. population had diabetes (diagnosed or undiagnosed) in 1988 when this data was collected.\n",
    "\n",
    "Does this sample come from a population in which the rate of fbs > 120 mg/dl is equal to 8%?\n",
    "\n",
    "Null Hypothesis: This sample was drawn from a population where 8% of people have fasting blood sugar > 120 mg/dl\n",
    "\n",
    "Alternative hypothesis: This sample was drawn from a population where more than 8% of people have fasting blood sugar > 120 mg/dl"
   ]
  },
  {
   "cell_type": "code",
   "execution_count": 22,
   "id": "5eff2f4a",
   "metadata": {},
   "outputs": [
    {
     "name": "stdout",
     "output_type": "stream",
     "text": [
      "4.689471951449078e-05\n"
     ]
    }
   ],
   "source": [
    "# run binomial test\n",
    "p_val = binom_test(45,303,0.08,alternative='greater')\n",
    "print(p_val)"
   ]
  },
  {
   "cell_type": "markdown",
   "id": "8e141011",
   "metadata": {},
   "source": [
    "# Finding 3\n",
    "which is equivalent to 0.0000469. This is less than 0.05, indicating that this sample likely comes from a population where more than 8% of people have fbs > 120 mg/dl. i.e our null hypothesis is false ."
   ]
  }
 ],
 "metadata": {
  "kernelspec": {
   "display_name": "Python 3",
   "language": "python",
   "name": "python3"
  },
  "language_info": {
   "codemirror_mode": {
    "name": "ipython",
    "version": 3
   },
   "file_extension": ".py",
   "mimetype": "text/x-python",
   "name": "python",
   "nbconvert_exporter": "python",
   "pygments_lexer": "ipython3",
   "version": "3.8.8"
  }
 },
 "nbformat": 4,
 "nbformat_minor": 5
}
